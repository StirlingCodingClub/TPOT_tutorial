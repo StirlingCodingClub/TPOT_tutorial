{
 "cells": [
  {
   "cell_type": "markdown",
   "metadata": {},
   "source": [
    "## Using TPOT to fit optimized machine learning models in Python\n",
    "\n",
    "In this tutorial session we will explore how to use the packahe [TPOT](https://epistasislab.github.io/tpot/) to automatically choose the best machine learning algorithm and the optimal parameterization for the algorithm. We will show examples for classification and regression (in the machine learning sense, not the classic stats sense)."
   ]
  },
  {
   "cell_type": "markdown",
   "metadata": {},
   "source": [
    "Lets dig right into our first example. First, we will import the necessasy packages:"
   ]
  },
  {
   "cell_type": "code",
   "execution_count": 1,
   "metadata": {},
   "outputs": [],
   "source": [
    "from sklearn.datasets import load_digits\n",
    "from sklearn.model_selection import train_test_split\n",
    "from sklearn.ensemble import RandomForestClassifier\n",
    "from sklearn.metrics import accuracy_score"
   ]
  },
  {
   "cell_type": "markdown",
   "metadata": {},
   "source": [
    "Lets look at a first example using a built in dataset called `digits`. You can learn more about it at https://scikit-learn.org/stable/auto_examples/datasets/plot_digits_last_image.html."
   ]
  },
  {
   "cell_type": "code",
   "execution_count": 2,
   "metadata": {},
   "outputs": [],
   "source": [
    "digits = load_digits()\n",
    "\n",
    "X_train, X_test, Y_train, Y_test = train_test_split(digits.data,digits.target, train_size=0.7, test_size=0.3)"
   ]
  },
  {
   "cell_type": "markdown",
   "metadata": {},
   "source": [
    "Let's first do a regular ML run, using Random Forests, to see which accuracies we get."
   ]
  },
  {
   "cell_type": "code",
   "execution_count": 3,
   "metadata": {},
   "outputs": [
    {
     "data": {
      "text/plain": [
       "RandomForestClassifier(bootstrap=True, class_weight=None, criterion='gini',\n",
       "                       max_depth=None, max_features='auto', max_leaf_nodes=None,\n",
       "                       min_impurity_decrease=0.0, min_impurity_split=None,\n",
       "                       min_samples_leaf=1, min_samples_split=2,\n",
       "                       min_weight_fraction_leaf=0.0, n_estimators=1000,\n",
       "                       n_jobs=None, oob_score=False, random_state=None,\n",
       "                       verbose=0, warm_start=False)"
      ]
     },
     "execution_count": 3,
     "metadata": {},
     "output_type": "execute_result"
    }
   ],
   "source": [
    "rf_mod = RandomForestClassifier(n_estimators=500)\n",
    "\n",
    "rf_mod.fit(X_train, Y_train)"
   ]
  },
  {
   "cell_type": "code",
   "execution_count": 4,
   "metadata": {},
   "outputs": [
    {
     "data": {
      "text/plain": [
       "0.9796296296296296"
      ]
     },
     "execution_count": 4,
     "metadata": {},
     "output_type": "execute_result"
    }
   ],
   "source": [
    "Y_pred = rf_mod.predict(X_test)\n",
    "\n",
    "accuracy_score(Y_test,Y_pred)"
   ]
  },
  {
   "cell_type": "markdown",
   "metadata": {},
   "source": [
    "Pretty good. What would TPOT give us?"
   ]
  },
  {
   "cell_type": "code",
   "execution_count": null,
   "metadata": {},
   "outputs": [],
   "source": [
    "from tpot import TPOTClassifier"
   ]
  },
  {
   "cell_type": "code",
   "execution_count": 5,
   "metadata": {},
   "outputs": [
    {
     "data": {
      "application/vnd.jupyter.widget-view+json": {
       "model_id": "",
       "version_major": 2,
       "version_minor": 0
      },
      "text/plain": [
       "HBox(children=(IntProgress(value=0, description='Optimization Progress', max=550, style=ProgressStyle(descript…"
      ]
     },
     "metadata": {},
     "output_type": "display_data"
    },
    {
     "name": "stdout",
     "output_type": "stream",
     "text": [
      "Generation 1 - Current best internal CV score: 0.9825900867091562\n",
      "Generation 2 - Current best internal CV score: 0.9825900867091562\n",
      "Generation 3 - Current best internal CV score: 0.9825900867091562\n",
      "Generation 4 - Current best internal CV score: 0.9825900867091562\n",
      "Generation 5 - Current best internal CV score: 0.9889282754511987\n",
      "Generation 6 - Current best internal CV score: 0.9889282754511987\n",
      "Generation 7 - Current best internal CV score: 0.9889282754511987\n",
      "Generation 8 - Current best internal CV score: 0.9889282754511987\n",
      "Generation 9 - Current best internal CV score: 0.9889282754511987\n",
      "Generation 10 - Current best internal CV score: 0.9889282754511987\n",
      "\n",
      "Best pipeline: RandomForestClassifier(LogisticRegression(PolynomialFeatures(input_matrix, degree=2, include_bias=False, interaction_only=False), C=0.5, dual=False, penalty=l1), bootstrap=True, criterion=entropy, max_features=0.4, min_samples_leaf=11, min_samples_split=6, n_estimators=100)\n"
     ]
    },
    {
     "data": {
      "text/plain": [
       "TPOTClassifier(config_dict=None, crossover_rate=0.1, cv=5,\n",
       "               disable_update_check=False, early_stop=None, generations=10,\n",
       "               max_eval_time_mins=5, max_time_mins=None, memory=None,\n",
       "               mutation_rate=0.9, n_jobs=8, offspring_size=None,\n",
       "               periodic_checkpoint_folder=None, population_size=50,\n",
       "               random_state=None, scoring=None, subsample=1.0, template=None,\n",
       "               use_dask=False, verbosity=2, warm_start=False)"
      ]
     },
     "execution_count": 5,
     "metadata": {},
     "output_type": "execute_result"
    }
   ],
   "source": [
    "tpot_mod = TPOTClassifier(generations=5, population_size=50, verbosity=2, n_jobs=8)\n",
    "\n",
    "tpot_mod.fit(X_train,Y_train)"
   ]
  },
  {
   "cell_type": "markdown",
   "metadata": {},
   "source": [
    "We get an accuracy of ~0.99 with only ten generations. If we let it run for longer, it could be better."
   ]
  },
  {
   "cell_type": "markdown",
   "metadata": {},
   "source": [
    "But what do we do withit then? Well, TPOT is nice enough to output it's \"findings\" as a ready to run Python script: "
   ]
  },
  {
   "cell_type": "code",
   "execution_count": 80,
   "metadata": {},
   "outputs": [],
   "source": [
    "tpot_mod.export('tpot_exported_pipeline.py')"
   ]
  },
  {
   "cell_type": "markdown",
   "metadata": {},
   "source": [
    "How would it do with a more sparse and complex dataset? Let's look at some data from a masters student working with me, who is developing ML algorithms to classify burn scars in the State of São Paulo, Brazil. We have originally almost one million labelled pixels, but for this exercise we use a subset with 1000 pixels. We read the data using `pandas`, the Python implementation of `data.frames`. "
   ]
  },
  {
   "cell_type": "code",
   "execution_count": null,
   "metadata": {},
   "outputs": [],
   "source": [
    "import pandas as pd\n",
    "import os"
   ]
  },
  {
   "cell_type": "code",
   "execution_count": 83,
   "metadata": {},
   "outputs": [],
   "source": [
    "# Set project folder as working folder\n",
    "os.chdir('/home/thiago/Projects/TPOT_tutorial/')\n",
    "\n",
    "# Read in csv data using pandas, letting it know there are no variable names\n",
    "burn = pd.read_csv('./data/burn_scar_mapping/burn_scars_1000.csv')"
   ]
  },
  {
   "cell_type": "markdown",
   "metadata": {},
   "source": [
    "Once the data is in, it is always a good idea to inspect the data to make sure it looks alright:"
   ]
  },
  {
   "cell_type": "code",
   "execution_count": 9,
   "metadata": {},
   "outputs": [
    {
     "data": {
      "text/html": [
       "<div>\n",
       "<style scoped>\n",
       "    .dataframe tbody tr th:only-of-type {\n",
       "        vertical-align: middle;\n",
       "    }\n",
       "\n",
       "    .dataframe tbody tr th {\n",
       "        vertical-align: top;\n",
       "    }\n",
       "\n",
       "    .dataframe thead th {\n",
       "        text-align: right;\n",
       "    }\n",
       "</style>\n",
       "<table border=\"1\" class=\"dataframe\">\n",
       "  <thead>\n",
       "    <tr style=\"text-align: right;\">\n",
       "      <th></th>\n",
       "      <th>Scene</th>\n",
       "      <th>Date</th>\n",
       "      <th>Class</th>\n",
       "      <th>Sensor</th>\n",
       "      <th>Blue</th>\n",
       "      <th>Green</th>\n",
       "      <th>Red</th>\n",
       "      <th>NIR</th>\n",
       "      <th>SWIR1</th>\n",
       "      <th>SWIR2</th>\n",
       "      <th>...</th>\n",
       "      <th>MSAVI</th>\n",
       "      <th>NDWI</th>\n",
       "      <th>SLAVI</th>\n",
       "      <th>NBR</th>\n",
       "      <th>BAIM</th>\n",
       "      <th>CSI</th>\n",
       "      <th>MIRBI</th>\n",
       "      <th>MI</th>\n",
       "      <th>S2</th>\n",
       "      <th>IRI</th>\n",
       "    </tr>\n",
       "  </thead>\n",
       "  <tbody>\n",
       "    <tr>\n",
       "      <th>0</th>\n",
       "      <td>TM_CDR_220_75_1988_09_27_bd1_7_utm23S</td>\n",
       "      <td>1988-09-27</td>\n",
       "      <td>BA</td>\n",
       "      <td>TM</td>\n",
       "      <td>597.000001</td>\n",
       "      <td>726.999997</td>\n",
       "      <td>762.000000</td>\n",
       "      <td>901.999994</td>\n",
       "      <td>1283.999992</td>\n",
       "      <td>1466.999983</td>\n",
       "      <td>...</td>\n",
       "      <td>-0.688934</td>\n",
       "      <td>-0.107428</td>\n",
       "      <td>0.404666</td>\n",
       "      <td>-0.174748</td>\n",
       "      <td>4.062306e-07</td>\n",
       "      <td>0.702492</td>\n",
       "      <td>4002.399978</td>\n",
       "      <td>366654.633482</td>\n",
       "      <td>-0.121413</td>\n",
       "      <td>48.059648</td>\n",
       "    </tr>\n",
       "    <tr>\n",
       "      <th>1</th>\n",
       "      <td>TM_CDR_220_75_1987_04_26_bd1_7_utm23S</td>\n",
       "      <td>1987-04-26</td>\n",
       "      <td>esoil</td>\n",
       "      <td>TM</td>\n",
       "      <td>445.999999</td>\n",
       "      <td>724.000000</td>\n",
       "      <td>941.000000</td>\n",
       "      <td>1453.000000</td>\n",
       "      <td>2479.000010</td>\n",
       "      <td>2291.000011</td>\n",
       "      <td>...</td>\n",
       "      <td>-0.295120</td>\n",
       "      <td>-0.334864</td>\n",
       "      <td>0.449567</td>\n",
       "      <td>-0.260936</td>\n",
       "      <td>1.211312e-07</td>\n",
       "      <td>0.586123</td>\n",
       "      <td>10552.600101</td>\n",
       "      <td>209120.896785</td>\n",
       "      <td>-0.356885</td>\n",
       "      <td>54.487565</td>\n",
       "    </tr>\n",
       "    <tr>\n",
       "      <th>2</th>\n",
       "      <td>TM_CDR_220_75_1998_07_29_bd1_7_utm23S</td>\n",
       "      <td>1998-07-29</td>\n",
       "      <td>gcover</td>\n",
       "      <td>TM</td>\n",
       "      <td>301.999998</td>\n",
       "      <td>387.000009</td>\n",
       "      <td>367.999997</td>\n",
       "      <td>2119.000022</td>\n",
       "      <td>1308.000011</td>\n",
       "      <td>611.000004</td>\n",
       "      <td>...</td>\n",
       "      <td>0.652613</td>\n",
       "      <td>-0.691141</td>\n",
       "      <td>2.164454</td>\n",
       "      <td>0.236650</td>\n",
       "      <td>1.612828e-07</td>\n",
       "      <td>1.620031</td>\n",
       "      <td>-7684.200106</td>\n",
       "      <td>20297.136300</td>\n",
       "      <td>-0.098507</td>\n",
       "      <td>60.977524</td>\n",
       "    </tr>\n",
       "    <tr>\n",
       "      <th>3</th>\n",
       "      <td>ETM_CDR_220_75_2013_02_20_bd1_7_utm23S</td>\n",
       "      <td>2013-02-20</td>\n",
       "      <td>water</td>\n",
       "      <td>ETM</td>\n",
       "      <td>211.000001</td>\n",
       "      <td>233.000003</td>\n",
       "      <td>202.999998</td>\n",
       "      <td>211.000000</td>\n",
       "      <td>131.999996</td>\n",
       "      <td>45.000004</td>\n",
       "      <td>...</td>\n",
       "      <td>-0.919985</td>\n",
       "      <td>0.049550</td>\n",
       "      <td>0.850806</td>\n",
       "      <td>0.230321</td>\n",
       "      <td>1.616262e-05</td>\n",
       "      <td>1.598485</td>\n",
       "      <td>-745.800038</td>\n",
       "      <td>47299.000624</td>\n",
       "      <td>0.019324</td>\n",
       "      <td>18.778211</td>\n",
       "    </tr>\n",
       "    <tr>\n",
       "      <th>4</th>\n",
       "      <td>TM_CDR_222_76_2008_06_29_B1_14_UTM22</td>\n",
       "      <td>2008-06-29</td>\n",
       "      <td>shadow</td>\n",
       "      <td>TM</td>\n",
       "      <td>218.000000</td>\n",
       "      <td>282.000000</td>\n",
       "      <td>288.000000</td>\n",
       "      <td>542.000000</td>\n",
       "      <td>376.000000</td>\n",
       "      <td>202.000000</td>\n",
       "      <td>...</td>\n",
       "      <td>-0.062669</td>\n",
       "      <td>-0.315534</td>\n",
       "      <td>1.106122</td>\n",
       "      <td>0.180828</td>\n",
       "      <td>2.299192e-06</td>\n",
       "      <td>1.441489</td>\n",
       "      <td>-1549.600000</td>\n",
       "      <td>32666.214022</td>\n",
       "      <td>-0.138340</td>\n",
       "      <td>29.829658</td>\n",
       "    </tr>\n",
       "  </tbody>\n",
       "</table>\n",
       "<p>5 rows × 22 columns</p>\n",
       "</div>"
      ],
      "text/plain": [
       "                                    Scene        Date   Class Sensor  \\\n",
       "0   TM_CDR_220_75_1988_09_27_bd1_7_utm23S  1988-09-27      BA     TM   \n",
       "1   TM_CDR_220_75_1987_04_26_bd1_7_utm23S  1987-04-26   esoil     TM   \n",
       "2   TM_CDR_220_75_1998_07_29_bd1_7_utm23S  1998-07-29  gcover     TM   \n",
       "3  ETM_CDR_220_75_2013_02_20_bd1_7_utm23S  2013-02-20   water    ETM   \n",
       "4    TM_CDR_222_76_2008_06_29_B1_14_UTM22  2008-06-29  shadow     TM   \n",
       "\n",
       "         Blue       Green         Red          NIR        SWIR1        SWIR2  \\\n",
       "0  597.000001  726.999997  762.000000   901.999994  1283.999992  1466.999983   \n",
       "1  445.999999  724.000000  941.000000  1453.000000  2479.000010  2291.000011   \n",
       "2  301.999998  387.000009  367.999997  2119.000022  1308.000011   611.000004   \n",
       "3  211.000001  233.000003  202.999998   211.000000   131.999996    45.000004   \n",
       "4  218.000000  282.000000  288.000000   542.000000   376.000000   202.000000   \n",
       "\n",
       "   ...     MSAVI      NDWI     SLAVI       NBR          BAIM       CSI  \\\n",
       "0  ... -0.688934 -0.107428  0.404666 -0.174748  4.062306e-07  0.702492   \n",
       "1  ... -0.295120 -0.334864  0.449567 -0.260936  1.211312e-07  0.586123   \n",
       "2  ...  0.652613 -0.691141  2.164454  0.236650  1.612828e-07  1.620031   \n",
       "3  ... -0.919985  0.049550  0.850806  0.230321  1.616262e-05  1.598485   \n",
       "4  ... -0.062669 -0.315534  1.106122  0.180828  2.299192e-06  1.441489   \n",
       "\n",
       "          MIRBI             MI        S2        IRI  \n",
       "0   4002.399978  366654.633482 -0.121413  48.059648  \n",
       "1  10552.600101  209120.896785 -0.356885  54.487565  \n",
       "2  -7684.200106   20297.136300 -0.098507  60.977524  \n",
       "3   -745.800038   47299.000624  0.019324  18.778211  \n",
       "4  -1549.600000   32666.214022 -0.138340  29.829658  \n",
       "\n",
       "[5 rows x 22 columns]"
      ]
     },
     "execution_count": 9,
     "metadata": {},
     "output_type": "execute_result"
    }
   ],
   "source": [
    "burn.head()\n"
   ]
  },
  {
   "cell_type": "code",
   "execution_count": 10,
   "metadata": {},
   "outputs": [
    {
     "data": {
      "text/html": [
       "<div>\n",
       "<style scoped>\n",
       "    .dataframe tbody tr th:only-of-type {\n",
       "        vertical-align: middle;\n",
       "    }\n",
       "\n",
       "    .dataframe tbody tr th {\n",
       "        vertical-align: top;\n",
       "    }\n",
       "\n",
       "    .dataframe thead th {\n",
       "        text-align: right;\n",
       "    }\n",
       "</style>\n",
       "<table border=\"1\" class=\"dataframe\">\n",
       "  <thead>\n",
       "    <tr style=\"text-align: right;\">\n",
       "      <th></th>\n",
       "      <th>Scene</th>\n",
       "      <th>Date</th>\n",
       "      <th>Class</th>\n",
       "      <th>Sensor</th>\n",
       "      <th>Blue</th>\n",
       "      <th>Green</th>\n",
       "      <th>Red</th>\n",
       "      <th>NIR</th>\n",
       "      <th>SWIR1</th>\n",
       "      <th>SWIR2</th>\n",
       "      <th>...</th>\n",
       "      <th>MSAVI</th>\n",
       "      <th>NDWI</th>\n",
       "      <th>SLAVI</th>\n",
       "      <th>NBR</th>\n",
       "      <th>BAIM</th>\n",
       "      <th>CSI</th>\n",
       "      <th>MIRBI</th>\n",
       "      <th>MI</th>\n",
       "      <th>S2</th>\n",
       "      <th>IRI</th>\n",
       "    </tr>\n",
       "  </thead>\n",
       "  <tbody>\n",
       "    <tr>\n",
       "      <th>995</th>\n",
       "      <td>TM_CDR_222_76_2009_04_29_B1_14_UTM22</td>\n",
       "      <td>2009-04-29</td>\n",
       "      <td>gcover</td>\n",
       "      <td>TM</td>\n",
       "      <td>250.000000</td>\n",
       "      <td>375.000000</td>\n",
       "      <td>289.000000</td>\n",
       "      <td>2415.000000</td>\n",
       "      <td>1285.000000</td>\n",
       "      <td>435.000000</td>\n",
       "      <td>...</td>\n",
       "      <td>0.760625</td>\n",
       "      <td>-0.731183</td>\n",
       "      <td>3.335635</td>\n",
       "      <td>0.305405</td>\n",
       "      <td>1.336417e-07</td>\n",
       "      <td>1.879377</td>\n",
       "      <td>-10815.000000</td>\n",
       "      <td>11218.944099</td>\n",
       "      <td>-0.072356</td>\n",
       "      <td>68.454023</td>\n",
       "    </tr>\n",
       "    <tr>\n",
       "      <th>996</th>\n",
       "      <td>TM_CDR_220_75_2003_10_15_bd1_7_utm23S</td>\n",
       "      <td>2003-10-15</td>\n",
       "      <td>water</td>\n",
       "      <td>TM</td>\n",
       "      <td>235.999999</td>\n",
       "      <td>313.999994</td>\n",
       "      <td>257.999995</td>\n",
       "      <td>215.000000</td>\n",
       "      <td>41.000002</td>\n",
       "      <td>21.000003</td>\n",
       "      <td>...</td>\n",
       "      <td>-1.392254</td>\n",
       "      <td>0.187146</td>\n",
       "      <td>0.770609</td>\n",
       "      <td>0.679687</td>\n",
       "      <td>2.089072e-05</td>\n",
       "      <td>5.243902</td>\n",
       "      <td>-1694.999979</td>\n",
       "      <td>88924.796122</td>\n",
       "      <td>-0.044534</td>\n",
       "      <td>33.737147</td>\n",
       "    </tr>\n",
       "    <tr>\n",
       "      <th>997</th>\n",
       "      <td>TM_CDR_220_75_2006_06_16_bd1_7_utm23S</td>\n",
       "      <td>2006-06-16</td>\n",
       "      <td>BA</td>\n",
       "      <td>TM</td>\n",
       "      <td>316.000012</td>\n",
       "      <td>470.000000</td>\n",
       "      <td>521.000003</td>\n",
       "      <td>941.999993</td>\n",
       "      <td>1081.000007</td>\n",
       "      <td>785.000026</td>\n",
       "      <td>...</td>\n",
       "      <td>-0.106095</td>\n",
       "      <td>-0.334278</td>\n",
       "      <td>0.721286</td>\n",
       "      <td>-0.068710</td>\n",
       "      <td>4.865237e-07</td>\n",
       "      <td>0.871415</td>\n",
       "      <td>1580.400143</td>\n",
       "      <td>82143.231341</td>\n",
       "      <td>-0.244922</td>\n",
       "      <td>37.295096</td>\n",
       "    </tr>\n",
       "    <tr>\n",
       "      <th>998</th>\n",
       "      <td>TM_CDR_222_76_1988_09_26_B1_7_UTM22</td>\n",
       "      <td>1988-09-26</td>\n",
       "      <td>BA</td>\n",
       "      <td>TM</td>\n",
       "      <td>723.000000</td>\n",
       "      <td>760.000000</td>\n",
       "      <td>745.000000</td>\n",
       "      <td>898.000000</td>\n",
       "      <td>883.000000</td>\n",
       "      <td>879.000000</td>\n",
       "      <td>...</td>\n",
       "      <td>-0.658635</td>\n",
       "      <td>-0.083233</td>\n",
       "      <td>0.552956</td>\n",
       "      <td>0.008422</td>\n",
       "      <td>6.306562e-07</td>\n",
       "      <td>1.016988</td>\n",
       "      <td>31.600000</td>\n",
       "      <td>455860.356347</td>\n",
       "      <td>-0.014986</td>\n",
       "      <td>42.287976</td>\n",
       "    </tr>\n",
       "    <tr>\n",
       "      <th>999</th>\n",
       "      <td>TM_CDR_220_75_2006_04_14_bd1_7_utm23S</td>\n",
       "      <td>2006-04-14</td>\n",
       "      <td>harv</td>\n",
       "      <td>TM</td>\n",
       "      <td>559.999991</td>\n",
       "      <td>799.000003</td>\n",
       "      <td>1130.000006</td>\n",
       "      <td>1865.999993</td>\n",
       "      <td>2553.999993</td>\n",
       "      <td>2243.000003</td>\n",
       "      <td>...</td>\n",
       "      <td>-0.211078</td>\n",
       "      <td>-0.400375</td>\n",
       "      <td>0.553217</td>\n",
       "      <td>-0.155656</td>\n",
       "      <td>9.996338e-08</td>\n",
       "      <td>0.730619</td>\n",
       "      <td>7255.200000</td>\n",
       "      <td>270957.769761</td>\n",
       "      <td>-0.337278</td>\n",
       "      <td>57.733914</td>\n",
       "    </tr>\n",
       "  </tbody>\n",
       "</table>\n",
       "<p>5 rows × 22 columns</p>\n",
       "</div>"
      ],
      "text/plain": [
       "                                     Scene        Date   Class Sensor  \\\n",
       "995   TM_CDR_222_76_2009_04_29_B1_14_UTM22  2009-04-29  gcover     TM   \n",
       "996  TM_CDR_220_75_2003_10_15_bd1_7_utm23S  2003-10-15   water     TM   \n",
       "997  TM_CDR_220_75_2006_06_16_bd1_7_utm23S  2006-06-16      BA     TM   \n",
       "998    TM_CDR_222_76_1988_09_26_B1_7_UTM22  1988-09-26      BA     TM   \n",
       "999  TM_CDR_220_75_2006_04_14_bd1_7_utm23S  2006-04-14    harv     TM   \n",
       "\n",
       "           Blue       Green          Red          NIR        SWIR1  \\\n",
       "995  250.000000  375.000000   289.000000  2415.000000  1285.000000   \n",
       "996  235.999999  313.999994   257.999995   215.000000    41.000002   \n",
       "997  316.000012  470.000000   521.000003   941.999993  1081.000007   \n",
       "998  723.000000  760.000000   745.000000   898.000000   883.000000   \n",
       "999  559.999991  799.000003  1130.000006  1865.999993  2553.999993   \n",
       "\n",
       "           SWIR2  ...     MSAVI      NDWI     SLAVI       NBR          BAIM  \\\n",
       "995   435.000000  ...  0.760625 -0.731183  3.335635  0.305405  1.336417e-07   \n",
       "996    21.000003  ... -1.392254  0.187146  0.770609  0.679687  2.089072e-05   \n",
       "997   785.000026  ... -0.106095 -0.334278  0.721286 -0.068710  4.865237e-07   \n",
       "998   879.000000  ... -0.658635 -0.083233  0.552956  0.008422  6.306562e-07   \n",
       "999  2243.000003  ... -0.211078 -0.400375  0.553217 -0.155656  9.996338e-08   \n",
       "\n",
       "          CSI         MIRBI             MI        S2        IRI  \n",
       "995  1.879377 -10815.000000   11218.944099 -0.072356  68.454023  \n",
       "996  5.243902  -1694.999979   88924.796122 -0.044534  33.737147  \n",
       "997  0.871415   1580.400143   82143.231341 -0.244922  37.295096  \n",
       "998  1.016988     31.600000  455860.356347 -0.014986  42.287976  \n",
       "999  0.730619   7255.200000  270957.769761 -0.337278  57.733914  \n",
       "\n",
       "[5 rows x 22 columns]"
      ]
     },
     "execution_count": 10,
     "metadata": {},
     "output_type": "execute_result"
    }
   ],
   "source": [
    "burn.tail()"
   ]
  },
  {
   "cell_type": "code",
   "execution_count": 11,
   "metadata": {},
   "outputs": [
    {
     "data": {
      "text/plain": [
       "(1000, 22)"
      ]
     },
     "execution_count": 11,
     "metadata": {},
     "output_type": "execute_result"
    }
   ],
   "source": [
    "burn.shape"
   ]
  },
  {
   "cell_type": "code",
   "execution_count": 12,
   "metadata": {},
   "outputs": [
    {
     "data": {
      "text/plain": [
       "Scene      object\n",
       "Date       object\n",
       "Class      object\n",
       "Sensor     object\n",
       "Blue      float64\n",
       "Green     float64\n",
       "Red       float64\n",
       "NIR       float64\n",
       "SWIR1     float64\n",
       "SWIR2     float64\n",
       "NDVI      float64\n",
       "GNDVI     float64\n",
       "MSAVI     float64\n",
       "NDWI      float64\n",
       "SLAVI     float64\n",
       "NBR       float64\n",
       "BAIM      float64\n",
       "CSI       float64\n",
       "MIRBI     float64\n",
       "MI        float64\n",
       "S2        float64\n",
       "IRI       float64\n",
       "dtype: object"
      ]
     },
     "execution_count": 12,
     "metadata": {},
     "output_type": "execute_result"
    }
   ],
   "source": [
    "burn.dtypes"
   ]
  },
  {
   "cell_type": "markdown",
   "metadata": {},
   "source": [
    "We can now start pre-processing the data for ML as usual. Unlike R, not only Python ML wants numeric arrays for all variables and will not recognize \"factor\" variables. So we need to encode the categorical variables as numeric, including the response variable."
   ]
  },
  {
   "cell_type": "markdown",
   "metadata": {},
   "source": [
    "So we select only the columns we need for the model, and then encode them."
   ]
  },
  {
   "cell_type": "code",
   "execution_count": 68,
   "metadata": {},
   "outputs": [
    {
     "name": "stdout",
     "output_type": "stream",
     "text": [
      "Class      True\n",
      "Sensor     True\n",
      "Blue      False\n",
      "Green     False\n",
      "Red       False\n",
      "NIR       False\n",
      "SWIR1     False\n",
      "SWIR2     False\n",
      "NDVI      False\n",
      "GNDVI     False\n",
      "MSAVI     False\n",
      "NDWI      False\n",
      "SLAVI     False\n",
      "NBR       False\n",
      "BAIM      False\n",
      "CSI       False\n",
      "MIRBI     False\n",
      "MI        False\n",
      "S2        False\n",
      "IRI       False\n",
      "dtype: bool\n",
      "['Class', 'Sensor']\n"
     ]
    }
   ],
   "source": [
    "# Drop columns we dont want\n",
    "vars_df = burn.drop(columns = ['Scene','Date'])\n",
    "\n",
    "# Make categorical variable boolean mask\n",
    "categorical_feature_mask = vars_df.dtypes==object # filter categorical columns using mask and turn it into a list\n",
    "print(categorical_feature_mask)\n",
    "\n",
    "# Select columns\n",
    "categorical_cols = vars_df.columns[categorical_feature_mask].tolist()\n",
    "print(categorical_cols)"
   ]
  },
  {
   "cell_type": "code",
   "execution_count": 69,
   "metadata": {},
   "outputs": [
    {
     "name": "stdout",
     "output_type": "stream",
     "text": [
      "    Class Sensor\n",
      "0      BA    NaN\n",
      "1   const    NaN\n",
      "2   esoil    NaN\n",
      "3  gcover    NaN\n",
      "4    harv    NaN\n",
      "5    road    NaN\n",
      "6  shadow    NaN\n",
      "7   water    NaN\n",
      "0     NaN    ETM\n",
      "1     NaN    OLI\n",
      "2     NaN     TM\n"
     ]
    },
    {
     "data": {
      "text/html": [
       "<div>\n",
       "<style scoped>\n",
       "    .dataframe tbody tr th:only-of-type {\n",
       "        vertical-align: middle;\n",
       "    }\n",
       "\n",
       "    .dataframe tbody tr th {\n",
       "        vertical-align: top;\n",
       "    }\n",
       "\n",
       "    .dataframe thead th {\n",
       "        text-align: right;\n",
       "    }\n",
       "</style>\n",
       "<table border=\"1\" class=\"dataframe\">\n",
       "  <thead>\n",
       "    <tr style=\"text-align: right;\">\n",
       "      <th></th>\n",
       "      <th>Class</th>\n",
       "      <th>Sensor</th>\n",
       "      <th>Blue</th>\n",
       "      <th>Green</th>\n",
       "      <th>Red</th>\n",
       "      <th>NIR</th>\n",
       "      <th>SWIR1</th>\n",
       "      <th>SWIR2</th>\n",
       "      <th>NDVI</th>\n",
       "      <th>GNDVI</th>\n",
       "      <th>MSAVI</th>\n",
       "      <th>NDWI</th>\n",
       "      <th>SLAVI</th>\n",
       "      <th>NBR</th>\n",
       "      <th>BAIM</th>\n",
       "      <th>CSI</th>\n",
       "      <th>MIRBI</th>\n",
       "      <th>MI</th>\n",
       "      <th>S2</th>\n",
       "      <th>IRI</th>\n",
       "    </tr>\n",
       "  </thead>\n",
       "  <tbody>\n",
       "    <tr>\n",
       "      <th>0</th>\n",
       "      <td>0</td>\n",
       "      <td>2</td>\n",
       "      <td>597.000001</td>\n",
       "      <td>726.999997</td>\n",
       "      <td>762.000000</td>\n",
       "      <td>901.999994</td>\n",
       "      <td>1283.999992</td>\n",
       "      <td>1466.999983</td>\n",
       "      <td>0.084135</td>\n",
       "      <td>0.107428</td>\n",
       "      <td>-0.688934</td>\n",
       "      <td>-0.107428</td>\n",
       "      <td>0.404666</td>\n",
       "      <td>-0.174748</td>\n",
       "      <td>4.062306e-07</td>\n",
       "      <td>0.702492</td>\n",
       "      <td>4002.399978</td>\n",
       "      <td>366654.633482</td>\n",
       "      <td>-0.121413</td>\n",
       "      <td>48.059648</td>\n",
       "    </tr>\n",
       "    <tr>\n",
       "      <th>1</th>\n",
       "      <td>2</td>\n",
       "      <td>2</td>\n",
       "      <td>445.999999</td>\n",
       "      <td>724.000000</td>\n",
       "      <td>941.000000</td>\n",
       "      <td>1453.000000</td>\n",
       "      <td>2479.000010</td>\n",
       "      <td>2291.000011</td>\n",
       "      <td>0.213868</td>\n",
       "      <td>0.334864</td>\n",
       "      <td>-0.295120</td>\n",
       "      <td>-0.334864</td>\n",
       "      <td>0.449567</td>\n",
       "      <td>-0.260936</td>\n",
       "      <td>1.211312e-07</td>\n",
       "      <td>0.586123</td>\n",
       "      <td>10552.600101</td>\n",
       "      <td>209120.896785</td>\n",
       "      <td>-0.356885</td>\n",
       "      <td>54.487565</td>\n",
       "    </tr>\n",
       "    <tr>\n",
       "      <th>2</th>\n",
       "      <td>3</td>\n",
       "      <td>2</td>\n",
       "      <td>301.999998</td>\n",
       "      <td>387.000009</td>\n",
       "      <td>367.999997</td>\n",
       "      <td>2119.000022</td>\n",
       "      <td>1308.000011</td>\n",
       "      <td>611.000004</td>\n",
       "      <td>0.704061</td>\n",
       "      <td>0.691141</td>\n",
       "      <td>0.652613</td>\n",
       "      <td>-0.691141</td>\n",
       "      <td>2.164454</td>\n",
       "      <td>0.236650</td>\n",
       "      <td>1.612828e-07</td>\n",
       "      <td>1.620031</td>\n",
       "      <td>-7684.200106</td>\n",
       "      <td>20297.136300</td>\n",
       "      <td>-0.098507</td>\n",
       "      <td>60.977524</td>\n",
       "    </tr>\n",
       "    <tr>\n",
       "      <th>3</th>\n",
       "      <td>7</td>\n",
       "      <td>0</td>\n",
       "      <td>211.000001</td>\n",
       "      <td>233.000003</td>\n",
       "      <td>202.999998</td>\n",
       "      <td>211.000000</td>\n",
       "      <td>131.999996</td>\n",
       "      <td>45.000004</td>\n",
       "      <td>0.019324</td>\n",
       "      <td>-0.049550</td>\n",
       "      <td>-0.919985</td>\n",
       "      <td>0.049550</td>\n",
       "      <td>0.850806</td>\n",
       "      <td>0.230321</td>\n",
       "      <td>1.616262e-05</td>\n",
       "      <td>1.598485</td>\n",
       "      <td>-745.800038</td>\n",
       "      <td>47299.000624</td>\n",
       "      <td>0.019324</td>\n",
       "      <td>18.778211</td>\n",
       "    </tr>\n",
       "    <tr>\n",
       "      <th>4</th>\n",
       "      <td>6</td>\n",
       "      <td>2</td>\n",
       "      <td>218.000000</td>\n",
       "      <td>282.000000</td>\n",
       "      <td>288.000000</td>\n",
       "      <td>542.000000</td>\n",
       "      <td>376.000000</td>\n",
       "      <td>202.000000</td>\n",
       "      <td>0.306024</td>\n",
       "      <td>0.315534</td>\n",
       "      <td>-0.062669</td>\n",
       "      <td>-0.315534</td>\n",
       "      <td>1.106122</td>\n",
       "      <td>0.180828</td>\n",
       "      <td>2.299192e-06</td>\n",
       "      <td>1.441489</td>\n",
       "      <td>-1549.600000</td>\n",
       "      <td>32666.214022</td>\n",
       "      <td>-0.138340</td>\n",
       "      <td>29.829658</td>\n",
       "    </tr>\n",
       "    <tr>\n",
       "      <th>5</th>\n",
       "      <td>5</td>\n",
       "      <td>2</td>\n",
       "      <td>801.000015</td>\n",
       "      <td>1222.000019</td>\n",
       "      <td>1547.000041</td>\n",
       "      <td>2595.000039</td>\n",
       "      <td>3363.000103</td>\n",
       "      <td>2879.000100</td>\n",
       "      <td>0.253018</td>\n",
       "      <td>0.359707</td>\n",
       "      <td>-0.192249</td>\n",
       "      <td>-0.359707</td>\n",
       "      <td>0.586308</td>\n",
       "      <td>-0.128902</td>\n",
       "      <td>5.542564e-08</td>\n",
       "      <td>0.771632</td>\n",
       "      <td>8201.000643</td>\n",
       "      <td>583521.272975</td>\n",
       "      <td>-0.317717</td>\n",
       "      <td>66.835943</td>\n",
       "    </tr>\n",
       "    <tr>\n",
       "      <th>6</th>\n",
       "      <td>0</td>\n",
       "      <td>2</td>\n",
       "      <td>559.999991</td>\n",
       "      <td>626.000000</td>\n",
       "      <td>649.000000</td>\n",
       "      <td>962.999988</td>\n",
       "      <td>1265.999990</td>\n",
       "      <td>1301.999977</td>\n",
       "      <td>0.194789</td>\n",
       "      <td>0.212083</td>\n",
       "      <td>-0.347628</td>\n",
       "      <td>-0.212083</td>\n",
       "      <td>0.493593</td>\n",
       "      <td>-0.135935</td>\n",
       "      <td>3.953316e-07</td>\n",
       "      <td>0.760664</td>\n",
       "      <td>3224.600012</td>\n",
       "      <td>236254.869422</td>\n",
       "      <td>-0.073615</td>\n",
       "      <td>45.514202</td>\n",
       "    </tr>\n",
       "    <tr>\n",
       "      <th>7</th>\n",
       "      <td>5</td>\n",
       "      <td>2</td>\n",
       "      <td>536.000000</td>\n",
       "      <td>862.000000</td>\n",
       "      <td>867.000000</td>\n",
       "      <td>1954.000000</td>\n",
       "      <td>1596.000000</td>\n",
       "      <td>1111.000000</td>\n",
       "      <td>0.385324</td>\n",
       "      <td>0.387784</td>\n",
       "      <td>0.112564</td>\n",
       "      <td>-0.387784</td>\n",
       "      <td>0.987867</td>\n",
       "      <td>0.100845</td>\n",
       "      <td>1.571216e-07</td>\n",
       "      <td>1.224311</td>\n",
       "      <td>-3187.200000</td>\n",
       "      <td>205006.010235</td>\n",
       "      <td>-0.235923</td>\n",
       "      <td>56.264441</td>\n",
       "    </tr>\n",
       "    <tr>\n",
       "      <th>8</th>\n",
       "      <td>5</td>\n",
       "      <td>2</td>\n",
       "      <td>548.000000</td>\n",
       "      <td>818.000000</td>\n",
       "      <td>881.000000</td>\n",
       "      <td>1670.000000</td>\n",
       "      <td>1251.000000</td>\n",
       "      <td>851.000000</td>\n",
       "      <td>0.309290</td>\n",
       "      <td>0.342444</td>\n",
       "      <td>-0.055072</td>\n",
       "      <td>-0.342444</td>\n",
       "      <td>0.964203</td>\n",
       "      <td>0.143444</td>\n",
       "      <td>2.297143e-07</td>\n",
       "      <td>1.334932</td>\n",
       "      <td>-3854.000000</td>\n",
       "      <td>236479.391617</td>\n",
       "      <td>-0.233030</td>\n",
       "      <td>52.992775</td>\n",
       "    </tr>\n",
       "    <tr>\n",
       "      <th>9</th>\n",
       "      <td>6</td>\n",
       "      <td>2</td>\n",
       "      <td>152.000004</td>\n",
       "      <td>205.000001</td>\n",
       "      <td>179.000000</td>\n",
       "      <td>658.000003</td>\n",
       "      <td>237.999996</td>\n",
       "      <td>142.999994</td>\n",
       "      <td>0.572282</td>\n",
       "      <td>0.524913</td>\n",
       "      <td>0.455739</td>\n",
       "      <td>-0.524913</td>\n",
       "      <td>2.043478</td>\n",
       "      <td>0.468750</td>\n",
       "      <td>2.043122e-06</td>\n",
       "      <td>2.764706</td>\n",
       "      <td>-4066.400072</td>\n",
       "      <td>8476.656751</td>\n",
       "      <td>-0.081571</td>\n",
       "      <td>43.647413</td>\n",
       "    </tr>\n",
       "  </tbody>\n",
       "</table>\n",
       "</div>"
      ],
      "text/plain": [
       "   Class  Sensor        Blue        Green          Red          NIR  \\\n",
       "0      0       2  597.000001   726.999997   762.000000   901.999994   \n",
       "1      2       2  445.999999   724.000000   941.000000  1453.000000   \n",
       "2      3       2  301.999998   387.000009   367.999997  2119.000022   \n",
       "3      7       0  211.000001   233.000003   202.999998   211.000000   \n",
       "4      6       2  218.000000   282.000000   288.000000   542.000000   \n",
       "5      5       2  801.000015  1222.000019  1547.000041  2595.000039   \n",
       "6      0       2  559.999991   626.000000   649.000000   962.999988   \n",
       "7      5       2  536.000000   862.000000   867.000000  1954.000000   \n",
       "8      5       2  548.000000   818.000000   881.000000  1670.000000   \n",
       "9      6       2  152.000004   205.000001   179.000000   658.000003   \n",
       "\n",
       "         SWIR1        SWIR2      NDVI     GNDVI     MSAVI      NDWI     SLAVI  \\\n",
       "0  1283.999992  1466.999983  0.084135  0.107428 -0.688934 -0.107428  0.404666   \n",
       "1  2479.000010  2291.000011  0.213868  0.334864 -0.295120 -0.334864  0.449567   \n",
       "2  1308.000011   611.000004  0.704061  0.691141  0.652613 -0.691141  2.164454   \n",
       "3   131.999996    45.000004  0.019324 -0.049550 -0.919985  0.049550  0.850806   \n",
       "4   376.000000   202.000000  0.306024  0.315534 -0.062669 -0.315534  1.106122   \n",
       "5  3363.000103  2879.000100  0.253018  0.359707 -0.192249 -0.359707  0.586308   \n",
       "6  1265.999990  1301.999977  0.194789  0.212083 -0.347628 -0.212083  0.493593   \n",
       "7  1596.000000  1111.000000  0.385324  0.387784  0.112564 -0.387784  0.987867   \n",
       "8  1251.000000   851.000000  0.309290  0.342444 -0.055072 -0.342444  0.964203   \n",
       "9   237.999996   142.999994  0.572282  0.524913  0.455739 -0.524913  2.043478   \n",
       "\n",
       "        NBR          BAIM       CSI         MIRBI             MI        S2  \\\n",
       "0 -0.174748  4.062306e-07  0.702492   4002.399978  366654.633482 -0.121413   \n",
       "1 -0.260936  1.211312e-07  0.586123  10552.600101  209120.896785 -0.356885   \n",
       "2  0.236650  1.612828e-07  1.620031  -7684.200106   20297.136300 -0.098507   \n",
       "3  0.230321  1.616262e-05  1.598485   -745.800038   47299.000624  0.019324   \n",
       "4  0.180828  2.299192e-06  1.441489  -1549.600000   32666.214022 -0.138340   \n",
       "5 -0.128902  5.542564e-08  0.771632   8201.000643  583521.272975 -0.317717   \n",
       "6 -0.135935  3.953316e-07  0.760664   3224.600012  236254.869422 -0.073615   \n",
       "7  0.100845  1.571216e-07  1.224311  -3187.200000  205006.010235 -0.235923   \n",
       "8  0.143444  2.297143e-07  1.334932  -3854.000000  236479.391617 -0.233030   \n",
       "9  0.468750  2.043122e-06  2.764706  -4066.400072    8476.656751 -0.081571   \n",
       "\n",
       "         IRI  \n",
       "0  48.059648  \n",
       "1  54.487565  \n",
       "2  60.977524  \n",
       "3  18.778211  \n",
       "4  29.829658  \n",
       "5  66.835943  \n",
       "6  45.514202  \n",
       "7  56.264441  \n",
       "8  52.992775  \n",
       "9  43.647413  "
      ]
     },
     "execution_count": 69,
     "metadata": {},
     "output_type": "execute_result"
    }
   ],
   "source": [
    "# # import labelencoder\n",
    "from sklearn.preprocessing import LabelEncoder\n",
    "\n",
    "# instantiate labelencoder object\n",
    "le = LabelEncoder()\n",
    "\n",
    "# Make dataframe to save labels\n",
    "\n",
    "labels = pd.DataFrame()\n",
    "\n",
    "# apply le on categorical feature columns\n",
    "for col in categorical_cols:\n",
    "        vars_df[col] = le.fit_transform(vars_df[col])\n",
    "        cl = list(le.classes_)\n",
    "        labels = pd.concat([labels, pd.DataFrame({col: cl})],sort=False)\n",
    "\n",
    "print(labels)                           \n",
    "vars_df.head(10)"
   ]
  },
  {
   "cell_type": "markdown",
   "metadata": {},
   "source": [
    "The next step is to separate the X and Y variables as individual arrays. "
   ]
  },
  {
   "cell_type": "code",
   "execution_count": 71,
   "metadata": {},
   "outputs": [
    {
     "name": "stdout",
     "output_type": "stream",
     "text": [
      "[[  2.         597.00000122 726.99999687]\n",
      " [  2.         445.99999857 724.        ]\n",
      " [  2.         301.99999764 387.00000887]]\n",
      "[0 2 3]\n"
     ]
    }
   ],
   "source": [
    "X = vars_df.iloc[:,1:].values\n",
    "Y = vars_df.iloc[:,0].values\n",
    "\n",
    "print(X[0:3,0:3])\n",
    "print(Y[0:3])"
   ]
  },
  {
   "cell_type": "markdown",
   "metadata": {},
   "source": [
    "And then we split the data into training and testing, using `scikit-learn`."
   ]
  },
  {
   "cell_type": "code",
   "execution_count": 72,
   "metadata": {},
   "outputs": [],
   "source": [
    "X_train, X_test, Y_train, Y_test = train_test_split(X,Y, train_size=0.7, test_size=0.3)"
   ]
  },
  {
   "cell_type": "markdown",
   "metadata": {},
   "source": [
    "We can now fit our Random Forests and TPOT models to this dataset:"
   ]
  },
  {
   "cell_type": "code",
   "execution_count": 76,
   "metadata": {},
   "outputs": [
    {
     "data": {
      "text/plain": [
       "0.81"
      ]
     },
     "execution_count": 76,
     "metadata": {},
     "output_type": "execute_result"
    }
   ],
   "source": [
    "rf_mod.fit(X_train,Y_train)\n",
    "Y_pred = rf_mod.predict(X_test)\n",
    "\n",
    "accuracy_score(Y_test,Y_pred)"
   ]
  },
  {
   "cell_type": "code",
   "execution_count": 78,
   "metadata": {},
   "outputs": [
    {
     "data": {
      "application/vnd.jupyter.widget-view+json": {
       "model_id": "",
       "version_major": 2,
       "version_minor": 0
      },
      "text/plain": [
       "HBox(children=(IntProgress(value=0, description='Optimization Progress', max=300, style=ProgressStyle(descript…"
      ]
     },
     "metadata": {},
     "output_type": "display_data"
    },
    {
     "name": "stdout",
     "output_type": "stream",
     "text": [
      "Generation 1 - Current best internal CV score: 0.8488084194407097\n",
      "Generation 2 - Current best internal CV score: 0.8488084194407097\n",
      "Generation 3 - Current best internal CV score: 0.8629849714326433\n",
      "Generation 4 - Current best internal CV score: 0.8629849714326433\n",
      "Generation 5 - Current best internal CV score: 0.8629849714326433\n",
      "\n",
      "Best pipeline: ExtraTreesClassifier(RFE(PCA(input_matrix, iterated_power=5, svd_solver=randomized), criterion=gini, max_features=0.2, n_estimators=100, step=0.5), bootstrap=True, criterion=entropy, max_features=0.5, min_samples_leaf=1, min_samples_split=15, n_estimators=100)\n"
     ]
    },
    {
     "data": {
      "text/plain": [
       "TPOTClassifier(config_dict=None, crossover_rate=0.1, cv=5,\n",
       "               disable_update_check=False, early_stop=None, generations=5,\n",
       "               max_eval_time_mins=5, max_time_mins=None, memory=None,\n",
       "               mutation_rate=0.9, n_jobs=8, offspring_size=None,\n",
       "               periodic_checkpoint_folder=None, population_size=50,\n",
       "               random_state=None, scoring=None, subsample=1.0, template=None,\n",
       "               use_dask=False, verbosity=2, warm_start=False)"
      ]
     },
     "execution_count": 78,
     "metadata": {},
     "output_type": "execute_result"
    }
   ],
   "source": [
    "tpot_mod.fit(X_train,Y_train)"
   ]
  },
  {
   "cell_type": "markdown",
   "metadata": {},
   "source": [
    "What if we give TPOT more time to search?"
   ]
  },
  {
   "cell_type": "code",
   "execution_count": 79,
   "metadata": {},
   "outputs": [
    {
     "data": {
      "application/vnd.jupyter.widget-view+json": {
       "model_id": "",
       "version_major": 2,
       "version_minor": 0
      },
      "text/plain": [
       "HBox(children=(IntProgress(value=0, description='Optimization Progress', max=1100, style=ProgressStyle(descrip…"
      ]
     },
     "metadata": {},
     "output_type": "display_data"
    },
    {
     "name": "stdout",
     "output_type": "stream",
     "text": [
      "Generation 1 - Current best internal CV score: 0.8559127758775997\n",
      "Generation 2 - Current best internal CV score: 0.8559127758775997\n",
      "Generation 3 - Current best internal CV score: 0.8559127758775997\n",
      "Generation 4 - Current best internal CV score: 0.8630796914129742\n",
      "Generation 5 - Current best internal CV score: 0.8630796914129742\n",
      "Generation 6 - Current best internal CV score: 0.8630796914129742\n",
      "Generation 7 - Current best internal CV score: 0.8630796914129742\n",
      "Generation 8 - Current best internal CV score: 0.8716309834111428\n",
      "Generation 9 - Current best internal CV score: 0.8716309834111428\n",
      "Generation 10 - Current best internal CV score: 0.872977331199605\n",
      "\n",
      "Best pipeline: ExtraTreesClassifier(OneHotEncoder(PCA(MaxAbsScaler(StandardScaler(input_matrix)), iterated_power=4, svd_solver=randomized), minimum_fraction=0.2, sparse=False, threshold=10), bootstrap=True, criterion=gini, max_features=0.4, min_samples_leaf=3, min_samples_split=8, n_estimators=100)\n"
     ]
    },
    {
     "data": {
      "text/plain": [
       "TPOTClassifier(config_dict=None, crossover_rate=0.1, cv=5,\n",
       "               disable_update_check=False, early_stop=None, generations=10,\n",
       "               max_eval_time_mins=5, max_time_mins=None, memory=None,\n",
       "               mutation_rate=0.9, n_jobs=8, offspring_size=None,\n",
       "               periodic_checkpoint_folder=None, population_size=100,\n",
       "               random_state=None, scoring=None, subsample=1.0, template=None,\n",
       "               use_dask=False, verbosity=2, warm_start=False)"
      ]
     },
     "execution_count": 79,
     "metadata": {},
     "output_type": "execute_result"
    }
   ],
   "source": [
    "tpot_mod = TPOTClassifier(generations=10, population_size=100, verbosity=2, n_jobs=8)\n",
    "\n",
    "tpot_mod.fit(X_train,Y_train)"
   ]
  },
  {
   "cell_type": "markdown",
   "metadata": {},
   "source": [
    "How about a regression problem? Let's bring in another dataset, this time about the size of burned areas instead of just burned land. "
   ]
  },
  {
   "cell_type": "code",
   "execution_count": 92,
   "metadata": {},
   "outputs": [
    {
     "name": "stdout",
     "output_type": "stream",
     "text": [
      "(517, 13)\n",
      "   X  Y month  day  FFMC   DMC     DC  ISI  temp  RH  wind  rain  area\n",
      "0  7  5   mar  fri  86.2  26.2   94.3  5.1   8.2  51   6.7   0.0   0.0\n",
      "1  7  4   oct  tue  90.6  35.4  669.1  6.7  18.0  33   0.9   0.0   0.0\n",
      "2  7  4   oct  sat  90.6  43.7  686.9  6.7  14.6  33   1.3   0.0   0.0\n",
      "3  8  6   mar  fri  91.7  33.3   77.5  9.0   8.3  97   4.0   0.2   0.0\n",
      "4  8  6   mar  sun  89.3  51.3  102.2  9.6  11.4  99   1.8   0.0   0.0\n"
     ]
    }
   ],
   "source": [
    "burn2 = pd.read_csv('./data/forest_fires/forestfires.csv')\n",
    "print(burn2.shape)\n",
    "print(burn2.head())"
   ]
  },
  {
   "cell_type": "markdown",
   "metadata": {},
   "source": [
    "In this case, `X` and `Y` are spatial locations, and `data` is the response variable. Let's set it up."
   ]
  },
  {
   "cell_type": "code",
   "execution_count": 93,
   "metadata": {},
   "outputs": [
    {
     "name": "stdout",
     "output_type": "stream",
     "text": [
      "   month  day\n",
      "0    apr  NaN\n",
      "1    aug  NaN\n",
      "2    dec  NaN\n",
      "3    feb  NaN\n",
      "4    jan  NaN\n",
      "5    jul  NaN\n",
      "6    jun  NaN\n",
      "7    mar  NaN\n",
      "8    may  NaN\n",
      "9    nov  NaN\n",
      "10   oct  NaN\n",
      "11   sep  NaN\n",
      "0    NaN  fri\n",
      "1    NaN  mon\n",
      "2    NaN  sat\n",
      "3    NaN  sun\n",
      "4    NaN  thu\n",
      "5    NaN  tue\n",
      "6    NaN  wed\n"
     ]
    },
    {
     "data": {
      "text/html": [
       "<div>\n",
       "<style scoped>\n",
       "    .dataframe tbody tr th:only-of-type {\n",
       "        vertical-align: middle;\n",
       "    }\n",
       "\n",
       "    .dataframe tbody tr th {\n",
       "        vertical-align: top;\n",
       "    }\n",
       "\n",
       "    .dataframe thead th {\n",
       "        text-align: right;\n",
       "    }\n",
       "</style>\n",
       "<table border=\"1\" class=\"dataframe\">\n",
       "  <thead>\n",
       "    <tr style=\"text-align: right;\">\n",
       "      <th></th>\n",
       "      <th>X</th>\n",
       "      <th>Y</th>\n",
       "      <th>month</th>\n",
       "      <th>day</th>\n",
       "      <th>FFMC</th>\n",
       "      <th>DMC</th>\n",
       "      <th>DC</th>\n",
       "      <th>ISI</th>\n",
       "      <th>temp</th>\n",
       "      <th>RH</th>\n",
       "      <th>wind</th>\n",
       "      <th>rain</th>\n",
       "      <th>area</th>\n",
       "    </tr>\n",
       "  </thead>\n",
       "  <tbody>\n",
       "    <tr>\n",
       "      <th>0</th>\n",
       "      <td>7</td>\n",
       "      <td>5</td>\n",
       "      <td>7</td>\n",
       "      <td>0</td>\n",
       "      <td>86.2</td>\n",
       "      <td>26.2</td>\n",
       "      <td>94.3</td>\n",
       "      <td>5.1</td>\n",
       "      <td>8.2</td>\n",
       "      <td>51</td>\n",
       "      <td>6.7</td>\n",
       "      <td>0.0</td>\n",
       "      <td>0.0</td>\n",
       "    </tr>\n",
       "    <tr>\n",
       "      <th>1</th>\n",
       "      <td>7</td>\n",
       "      <td>4</td>\n",
       "      <td>10</td>\n",
       "      <td>5</td>\n",
       "      <td>90.6</td>\n",
       "      <td>35.4</td>\n",
       "      <td>669.1</td>\n",
       "      <td>6.7</td>\n",
       "      <td>18.0</td>\n",
       "      <td>33</td>\n",
       "      <td>0.9</td>\n",
       "      <td>0.0</td>\n",
       "      <td>0.0</td>\n",
       "    </tr>\n",
       "    <tr>\n",
       "      <th>2</th>\n",
       "      <td>7</td>\n",
       "      <td>4</td>\n",
       "      <td>10</td>\n",
       "      <td>2</td>\n",
       "      <td>90.6</td>\n",
       "      <td>43.7</td>\n",
       "      <td>686.9</td>\n",
       "      <td>6.7</td>\n",
       "      <td>14.6</td>\n",
       "      <td>33</td>\n",
       "      <td>1.3</td>\n",
       "      <td>0.0</td>\n",
       "      <td>0.0</td>\n",
       "    </tr>\n",
       "    <tr>\n",
       "      <th>3</th>\n",
       "      <td>8</td>\n",
       "      <td>6</td>\n",
       "      <td>7</td>\n",
       "      <td>0</td>\n",
       "      <td>91.7</td>\n",
       "      <td>33.3</td>\n",
       "      <td>77.5</td>\n",
       "      <td>9.0</td>\n",
       "      <td>8.3</td>\n",
       "      <td>97</td>\n",
       "      <td>4.0</td>\n",
       "      <td>0.2</td>\n",
       "      <td>0.0</td>\n",
       "    </tr>\n",
       "    <tr>\n",
       "      <th>4</th>\n",
       "      <td>8</td>\n",
       "      <td>6</td>\n",
       "      <td>7</td>\n",
       "      <td>3</td>\n",
       "      <td>89.3</td>\n",
       "      <td>51.3</td>\n",
       "      <td>102.2</td>\n",
       "      <td>9.6</td>\n",
       "      <td>11.4</td>\n",
       "      <td>99</td>\n",
       "      <td>1.8</td>\n",
       "      <td>0.0</td>\n",
       "      <td>0.0</td>\n",
       "    </tr>\n",
       "    <tr>\n",
       "      <th>5</th>\n",
       "      <td>8</td>\n",
       "      <td>6</td>\n",
       "      <td>1</td>\n",
       "      <td>3</td>\n",
       "      <td>92.3</td>\n",
       "      <td>85.3</td>\n",
       "      <td>488.0</td>\n",
       "      <td>14.7</td>\n",
       "      <td>22.2</td>\n",
       "      <td>29</td>\n",
       "      <td>5.4</td>\n",
       "      <td>0.0</td>\n",
       "      <td>0.0</td>\n",
       "    </tr>\n",
       "    <tr>\n",
       "      <th>6</th>\n",
       "      <td>8</td>\n",
       "      <td>6</td>\n",
       "      <td>1</td>\n",
       "      <td>1</td>\n",
       "      <td>92.3</td>\n",
       "      <td>88.9</td>\n",
       "      <td>495.6</td>\n",
       "      <td>8.5</td>\n",
       "      <td>24.1</td>\n",
       "      <td>27</td>\n",
       "      <td>3.1</td>\n",
       "      <td>0.0</td>\n",
       "      <td>0.0</td>\n",
       "    </tr>\n",
       "    <tr>\n",
       "      <th>7</th>\n",
       "      <td>8</td>\n",
       "      <td>6</td>\n",
       "      <td>1</td>\n",
       "      <td>1</td>\n",
       "      <td>91.5</td>\n",
       "      <td>145.4</td>\n",
       "      <td>608.2</td>\n",
       "      <td>10.7</td>\n",
       "      <td>8.0</td>\n",
       "      <td>86</td>\n",
       "      <td>2.2</td>\n",
       "      <td>0.0</td>\n",
       "      <td>0.0</td>\n",
       "    </tr>\n",
       "    <tr>\n",
       "      <th>8</th>\n",
       "      <td>8</td>\n",
       "      <td>6</td>\n",
       "      <td>11</td>\n",
       "      <td>5</td>\n",
       "      <td>91.0</td>\n",
       "      <td>129.5</td>\n",
       "      <td>692.6</td>\n",
       "      <td>7.0</td>\n",
       "      <td>13.1</td>\n",
       "      <td>63</td>\n",
       "      <td>5.4</td>\n",
       "      <td>0.0</td>\n",
       "      <td>0.0</td>\n",
       "    </tr>\n",
       "    <tr>\n",
       "      <th>9</th>\n",
       "      <td>7</td>\n",
       "      <td>5</td>\n",
       "      <td>11</td>\n",
       "      <td>2</td>\n",
       "      <td>92.5</td>\n",
       "      <td>88.0</td>\n",
       "      <td>698.6</td>\n",
       "      <td>7.1</td>\n",
       "      <td>22.8</td>\n",
       "      <td>40</td>\n",
       "      <td>4.0</td>\n",
       "      <td>0.0</td>\n",
       "      <td>0.0</td>\n",
       "    </tr>\n",
       "  </tbody>\n",
       "</table>\n",
       "</div>"
      ],
      "text/plain": [
       "   X  Y  month  day  FFMC    DMC     DC   ISI  temp  RH  wind  rain  area\n",
       "0  7  5      7    0  86.2   26.2   94.3   5.1   8.2  51   6.7   0.0   0.0\n",
       "1  7  4     10    5  90.6   35.4  669.1   6.7  18.0  33   0.9   0.0   0.0\n",
       "2  7  4     10    2  90.6   43.7  686.9   6.7  14.6  33   1.3   0.0   0.0\n",
       "3  8  6      7    0  91.7   33.3   77.5   9.0   8.3  97   4.0   0.2   0.0\n",
       "4  8  6      7    3  89.3   51.3  102.2   9.6  11.4  99   1.8   0.0   0.0\n",
       "5  8  6      1    3  92.3   85.3  488.0  14.7  22.2  29   5.4   0.0   0.0\n",
       "6  8  6      1    1  92.3   88.9  495.6   8.5  24.1  27   3.1   0.0   0.0\n",
       "7  8  6      1    1  91.5  145.4  608.2  10.7   8.0  86   2.2   0.0   0.0\n",
       "8  8  6     11    5  91.0  129.5  692.6   7.0  13.1  63   5.4   0.0   0.0\n",
       "9  7  5     11    2  92.5   88.0  698.6   7.1  22.8  40   4.0   0.0   0.0"
      ]
     },
     "execution_count": 93,
     "metadata": {},
     "output_type": "execute_result"
    }
   ],
   "source": [
    "cat_mask = burn2.dtypes==object # filter categorical columns using mask and turn it into a list\n",
    "cat_cols = burn2.columns[cat_mask].tolist()\n",
    "\n",
    "labels2 = pd.DataFrame()\n",
    "\n",
    "for col in cat_cols:\n",
    "        burn2[col] = le.fit_transform(burn2[col])\n",
    "        cl = list(le.classes_)\n",
    "        labels2 = pd.concat([labels2, pd.DataFrame({col: cl})],sort=False)\n",
    "\n",
    "print(labels2)                           \n",
    "burn2.head(10)"
   ]
  },
  {
   "cell_type": "code",
   "execution_count": 98,
   "metadata": {},
   "outputs": [
    {
     "name": "stdout",
     "output_type": "stream",
     "text": [
      "(517, 12)\n",
      "(517,)\n"
     ]
    }
   ],
   "source": [
    "X_vars = burn2.iloc[:,:-1].values\n",
    "print(X_vars.shape)\n",
    "Y_var = burn2.iloc[:,-1].values\n",
    "print(Y_var.shape)\n",
    "X_train, X_test, Y_train, Y_test = train_test_split(X_vars,Y_var, train_size=0.7, test_size=0.3)\n"
   ]
  },
  {
   "cell_type": "markdown",
   "metadata": {},
   "source": [
    "Using Random Forests:"
   ]
  },
  {
   "cell_type": "code",
   "execution_count": 106,
   "metadata": {},
   "outputs": [
    {
     "name": "stdout",
     "output_type": "stream",
     "text": [
      "70.64890462746881\n"
     ]
    }
   ],
   "source": [
    "from sklearn.ensemble import RandomForestRegressor\n",
    "import math\n",
    "\n",
    "rf_reg = RandomForestRegressor(n_estimators=500)\n",
    "\n",
    "rf_reg.fit(X_train,Y_train)\n",
    "\n",
    "from sklearn.metrics import mean_squared_error\n",
    "\n",
    "Y_pred = rf_reg.predict(X_test)\n",
    "\n",
    "print(math.sqrt(mean_squared_error(Y_test,Y_pred)))"
   ]
  },
  {
   "cell_type": "markdown",
   "metadata": {},
   "source": [
    "Using TPOT:"
   ]
  },
  {
   "cell_type": "code",
   "execution_count": 108,
   "metadata": {},
   "outputs": [],
   "source": [
    "from tpot import TPOTRegressor"
   ]
  },
  {
   "cell_type": "code",
   "execution_count": 110,
   "metadata": {},
   "outputs": [
    {
     "data": {
      "application/vnd.jupyter.widget-view+json": {
       "model_id": "",
       "version_major": 2,
       "version_minor": 0
      },
      "text/plain": [
       "HBox(children=(IntProgress(value=0, description='Optimization Progress', max=120, style=ProgressStyle(descript…"
      ]
     },
     "metadata": {},
     "output_type": "display_data"
    },
    {
     "name": "stdout",
     "output_type": "stream",
     "text": [
      "Generation 1 - Current best internal CV score: -5129.143448637596\n",
      "Generation 2 - Current best internal CV score: -5103.823182660069\n",
      "Generation 3 - Current best internal CV score: -5103.823182660069\n",
      "Generation 4 - Current best internal CV score: -5079.3576445159615\n",
      "Generation 5 - Current best internal CV score: -5079.3576445159615\n",
      "\n",
      "Best pipeline: AdaBoostRegressor(LassoLarsCV(input_matrix, normalize=True), learning_rate=0.5, loss=exponential, n_estimators=100)\n",
      "74.14593844267826\n"
     ]
    }
   ],
   "source": [
    "tp_reg = TPOTRegressor(generations=5, population_size=20, verbosity=2)\n",
    "tp_reg.fit(X_train,Y_train)\n",
    "\n",
    "Y_pred = tp_reg.predict(X_test)\n",
    "\n",
    "print(math.sqrt(mean_squared_error(Y_test,Y_pred)))"
   ]
  },
  {
   "cell_type": "code",
   "execution_count": 111,
   "metadata": {},
   "outputs": [
    {
     "data": {
      "application/vnd.jupyter.widget-view+json": {
       "model_id": "",
       "version_major": 2,
       "version_minor": 0
      },
      "text/plain": [
       "HBox(children=(IntProgress(value=0, description='Optimization Progress', max=550, style=ProgressStyle(descript…"
      ]
     },
     "metadata": {},
     "output_type": "display_data"
    },
    {
     "name": "stdout",
     "output_type": "stream",
     "text": [
      "Generation 1 - Current best internal CV score: -5110.699613215833\n",
      "Generation 2 - Current best internal CV score: -5110.699613215833\n",
      "Generation 3 - Current best internal CV score: -5110.699613215833\n",
      "Generation 4 - Current best internal CV score: -5110.699613215833\n",
      "Generation 5 - Current best internal CV score: -5098.05626985058\n",
      "Generation 6 - Current best internal CV score: -5098.05626985058\n",
      "Generation 7 - Current best internal CV score: -5046.813824890077\n",
      "Generation 8 - Current best internal CV score: -5046.813824890077\n",
      "Generation 9 - Current best internal CV score: -5046.813824890077\n",
      "Generation 10 - Current best internal CV score: -5046.813824890077\n",
      "\n",
      "Best pipeline: RandomForestRegressor(RidgeCV(input_matrix), bootstrap=True, max_features=0.05, min_samples_leaf=3, min_samples_split=9, n_estimators=100)\n",
      "41.32219075097994\n"
     ]
    }
   ],
   "source": [
    "tp_reg = TPOTRegressor(generations=10, population_size=50, verbosity=2)\n",
    "tp_reg.fit(X_train,Y_train)\n",
    "\n",
    "Y_pred = tp_reg.predict(X_test)\n",
    "\n",
    "print(math.sqrt(mean_squared_error(Y_test,Y_pred)))"
   ]
  },
  {
   "cell_type": "code",
   "execution_count": null,
   "metadata": {},
   "outputs": [],
   "source": []
  }
 ],
 "metadata": {
  "kernelspec": {
   "display_name": "Python (tpot_env)",
   "language": "python",
   "name": "tpot_env"
  },
  "language_info": {
   "codemirror_mode": {
    "name": "ipython",
    "version": 3
   },
   "file_extension": ".py",
   "mimetype": "text/x-python",
   "name": "python",
   "nbconvert_exporter": "python",
   "pygments_lexer": "ipython3",
   "version": "3.7.3"
  }
 },
 "nbformat": 4,
 "nbformat_minor": 2
}
